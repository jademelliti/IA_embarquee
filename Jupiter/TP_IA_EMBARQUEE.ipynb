{
  "cells": [
    {
      "cell_type": "markdown",
      "metadata": {
        "id": "ZLQS0KLMycmb"
      },
      "source": [
        "## **PRACTICAL SESSION 1** — Deep Learning for predictive maintenance"
      ]
    },
    {
      "cell_type": "markdown",
      "metadata": {
        "id": "3mjNAfgj4K1_"
      },
      "source": [
        "The dataset used is the **AI4I 2020** Predictive Maintenance Dataset, which contains 10,000 instances of industrial sensor data. Each instance represents the operating condition of a machine and is associated with a label indicating whether a failure has occurred and, if so, what type of failure it is.\n",
        "\n",
        "The 5 possible labels are:\n",
        "\n",
        "\n",
        "\n",
        "*   **TWF**: Tool Wear Failure\n",
        "*   **HDF**: Heat Dissipation Failure\n",
        "*   **PWF**: Power Failure\n",
        "*   **OSF**: Overstrain Failure\n",
        "*   **RNF**: Random Failure\n",
        "\n",
        "\n",
        "The data is available on eCAMPUS as CSV file called: \"ai4i2020.csv\"\n",
        "\n"
      ]
    },
    {
      "cell_type": "markdown",
      "metadata": {
        "id": "4_LBMVsgRI9W"
      },
      "source": [
        "## **PRACTICAL SESSION Goal** — Ceate a deep leanring model allowing to realize a predictive maintenance mission"
      ]
    },
    {
      "cell_type": "markdown",
      "metadata": {
        "id": "wt7L0p4MbIIw"
      },
      "source": [
        "## **1 - Analysis of the dataset**\n",
        "\n"
      ]
    },
    {
      "cell_type": "markdown",
      "metadata": {
        "id": "0JFIZ6mtRapt"
      },
      "source": [
        "All libraries used ***SHOULD BE PLACED*** in the code cell below"
      ]
    },
    {
      "cell_type": "code",
      "execution_count": null,
      "metadata": {},
      "outputs": [
        {
          "name": "stdout",
          "output_type": "stream",
          "text": [
            "Collecting matplotlib\n",
            "  Downloading matplotlib-3.10.1-cp312-cp312-win_amd64.whl.metadata (11 kB)\n",
            "Collecting contourpy>=1.0.1 (from matplotlib)\n",
            "  Downloading contourpy-1.3.1-cp312-cp312-win_amd64.whl.metadata (5.4 kB)\n",
            "Collecting cycler>=0.10 (from matplotlib)\n",
            "  Downloading cycler-0.12.1-py3-none-any.whl.metadata (3.8 kB)\n",
            "Collecting fonttools>=4.22.0 (from matplotlib)\n",
            "  Downloading fonttools-4.56.0-cp312-cp312-win_amd64.whl.metadata (103 kB)\n",
            "     ---------------------------------------- 0.0/104.0 kB ? eta -:--:--\n",
            "     --------------- ------------------------ 41.0/104.0 kB ? eta -:--:--\n",
            "     ----------------------- --------------- 61.4/104.0 kB 3.2 MB/s eta 0:00:01\n",
            "     -------------------------------------  102.4/104.0 kB 1.2 MB/s eta 0:00:01\n",
            "     ------------------------------------ 104.0/104.0 kB 859.8 kB/s eta 0:00:00\n",
            "Collecting kiwisolver>=1.3.1 (from matplotlib)\n",
            "  Downloading kiwisolver-1.4.8-cp312-cp312-win_amd64.whl.metadata (6.3 kB)\n",
            "Requirement already satisfied: numpy>=1.23 in c:\\users\\alexandra\\appdata\\local\\programs\\python\\python312\\lib\\site-packages (from matplotlib) (2.2.3)\n",
            "Requirement already satisfied: packaging>=20.0 in c:\\users\\alexandra\\appdata\\roaming\\python\\python312\\site-packages (from matplotlib) (24.2)\n",
            "Collecting pillow>=8 (from matplotlib)\n",
            "  Downloading pillow-11.1.0-cp312-cp312-win_amd64.whl.metadata (9.3 kB)\n",
            "Collecting pyparsing>=2.3.1 (from matplotlib)\n",
            "  Downloading pyparsing-3.2.1-py3-none-any.whl.metadata (5.0 kB)\n",
            "Requirement already satisfied: python-dateutil>=2.7 in c:\\users\\alexandra\\appdata\\roaming\\python\\python312\\site-packages (from matplotlib) (2.9.0.post0)\n",
            "Requirement already satisfied: six>=1.5 in c:\\users\\alexandra\\appdata\\roaming\\python\\python312\\site-packages (from python-dateutil>=2.7->matplotlib) (1.17.0)\n",
            "Downloading matplotlib-3.10.1-cp312-cp312-win_amd64.whl (8.1 MB)\n",
            "   ---------------------------------------- 0.0/8.1 MB ? eta -:--:--\n",
            "   ---------------------------------------- 0.0/8.1 MB 1.4 MB/s eta 0:00:06\n",
            "   ---------------------------------------- 0.1/8.1 MB 825.8 kB/s eta 0:00:10\n",
            "   ---------------------------------------- 0.1/8.1 MB 825.8 kB/s eta 0:00:10\n",
            "    --------------------------------------- 0.1/8.1 MB 939.4 kB/s eta 0:00:09\n",
            "    --------------------------------------- 0.1/8.1 MB 939.4 kB/s eta 0:00:09\n",
            "    --------------------------------------- 0.1/8.1 MB 514.3 kB/s eta 0:00:16\n",
            "    --------------------------------------- 0.1/8.1 MB 514.3 kB/s eta 0:00:16\n",
            "    --------------------------------------- 0.1/8.1 MB 514.3 kB/s eta 0:00:16\n",
            "    --------------------------------------- 0.2/8.1 MB 446.5 kB/s eta 0:00:18\n",
            "    --------------------------------------- 0.2/8.1 MB 420.1 kB/s eta 0:00:19\n",
            "   - -------------------------------------- 0.2/8.1 MB 461.0 kB/s eta 0:00:18\n",
            "   - -------------------------------------- 0.2/8.1 MB 519.9 kB/s eta 0:00:16\n",
            "   - -------------------------------------- 0.3/8.1 MB 532.5 kB/s eta 0:00:15\n",
            "   - -------------------------------------- 0.3/8.1 MB 532.5 kB/s eta 0:00:15\n",
            "   - -------------------------------------- 0.3/8.1 MB 505.4 kB/s eta 0:00:16\n",
            "   - -------------------------------------- 0.3/8.1 MB 505.4 kB/s eta 0:00:16\n",
            "   - -------------------------------------- 0.3/8.1 MB 505.4 kB/s eta 0:00:16\n",
            "   - -------------------------------------- 0.3/8.1 MB 441.9 kB/s eta 0:00:18\n",
            "   - -------------------------------------- 0.3/8.1 MB 446.4 kB/s eta 0:00:18\n",
            "   - -------------------------------------- 0.3/8.1 MB 446.4 kB/s eta 0:00:18\n",
            "   - -------------------------------------- 0.4/8.1 MB 436.8 kB/s eta 0:00:18\n",
            "   - -------------------------------------- 0.4/8.1 MB 436.8 kB/s eta 0:00:18\n",
            "   - -------------------------------------- 0.4/8.1 MB 436.8 kB/s eta 0:00:18\n",
            "   - -------------------------------------- 0.4/8.1 MB 388.7 kB/s eta 0:00:20\n",
            "   - -------------------------------------- 0.4/8.1 MB 388.7 kB/s eta 0:00:20\n",
            "   - -------------------------------------- 0.4/8.1 MB 373.3 kB/s eta 0:00:21\n",
            "   - -------------------------------------- 0.4/8.1 MB 373.3 kB/s eta 0:00:21\n",
            "   - -------------------------------------- 0.4/8.1 MB 373.3 kB/s eta 0:00:21\n",
            "   - -------------------------------------- 0.4/8.1 MB 373.3 kB/s eta 0:00:21\n",
            "   - -------------------------------------- 0.4/8.1 MB 373.3 kB/s eta 0:00:21\n",
            "   - -------------------------------------- 0.4/8.1 MB 373.3 kB/s eta 0:00:21\n",
            "   -- ------------------------------------- 0.4/8.1 MB 323.6 kB/s eta 0:00:24\n",
            "   -- ------------------------------------- 0.4/8.1 MB 323.6 kB/s eta 0:00:24\n",
            "   -- ------------------------------------- 0.4/8.1 MB 323.6 kB/s eta 0:00:24\n",
            "   -- ------------------------------------- 0.4/8.1 MB 308.4 kB/s eta 0:00:25\n",
            "   -- ------------------------------------- 0.4/8.1 MB 308.4 kB/s eta 0:00:25\n",
            "   -- ------------------------------------- 0.4/8.1 MB 308.4 kB/s eta 0:00:25\n",
            "   -- ------------------------------------- 0.4/8.1 MB 308.4 kB/s eta 0:00:25\n",
            "   -- ------------------------------------- 0.4/8.1 MB 289.8 kB/s eta 0:00:27\n",
            "   -- ------------------------------------- 0.5/8.1 MB 284.6 kB/s eta 0:00:27\n",
            "   -- ------------------------------------- 0.5/8.1 MB 284.6 kB/s eta 0:00:27\n",
            "   -- ------------------------------------- 0.5/8.1 MB 283.6 kB/s eta 0:00:27\n",
            "   -- ------------------------------------- 0.5/8.1 MB 285.3 kB/s eta 0:00:27\n",
            "   -- ------------------------------------- 0.5/8.1 MB 285.9 kB/s eta 0:00:27\n",
            "   -- ------------------------------------- 0.5/8.1 MB 292.6 kB/s eta 0:00:26\n",
            "   -- ------------------------------------- 0.5/8.1 MB 293.2 kB/s eta 0:00:26\n",
            "   -- ------------------------------------- 0.6/8.1 MB 308.1 kB/s eta 0:00:25\n",
            "   -- ------------------------------------- 0.6/8.1 MB 314.0 kB/s eta 0:00:24\n",
            "   --- ------------------------------------ 0.6/8.1 MB 319.7 kB/s eta 0:00:24\n",
            "   --- ------------------------------------ 0.7/8.1 MB 335.6 kB/s eta 0:00:23\n",
            "   --- ------------------------------------ 0.7/8.1 MB 345.8 kB/s eta 0:00:22\n",
            "   --- ------------------------------------ 0.7/8.1 MB 352.9 kB/s eta 0:00:21\n",
            "   --- ------------------------------------ 0.8/8.1 MB 359.7 kB/s eta 0:00:21\n",
            "   --- ------------------------------------ 0.8/8.1 MB 359.7 kB/s eta 0:00:21\n",
            "   --- ------------------------------------ 0.8/8.1 MB 361.4 kB/s eta 0:00:21\n",
            "   ---- ----------------------------------- 0.8/8.1 MB 365.2 kB/s eta 0:00:20\n",
            "   ---- ----------------------------------- 0.8/8.1 MB 371.3 kB/s eta 0:00:20\n",
            "   ---- ----------------------------------- 0.9/8.1 MB 379.8 kB/s eta 0:00:19\n",
            "   ---- ----------------------------------- 0.9/8.1 MB 392.3 kB/s eta 0:00:19\n",
            "   ---- ----------------------------------- 1.0/8.1 MB 401.9 kB/s eta 0:00:18\n",
            "   ---- ----------------------------------- 1.0/8.1 MB 415.6 kB/s eta 0:00:17\n",
            "   ----- ---------------------------------- 1.0/8.1 MB 420.2 kB/s eta 0:00:17\n",
            "   ----- ---------------------------------- 1.1/8.1 MB 441.1 kB/s eta 0:00:16\n",
            "   ----- ---------------------------------- 1.2/8.1 MB 457.2 kB/s eta 0:00:16\n",
            "   ------ --------------------------------- 1.2/8.1 MB 476.6 kB/s eta 0:00:15\n",
            "   ------ --------------------------------- 1.3/8.1 MB 486.7 kB/s eta 0:00:14\n",
            "   ------ --------------------------------- 1.4/8.1 MB 505.1 kB/s eta 0:00:14\n",
            "   ------ --------------------------------- 1.4/8.1 MB 518.3 kB/s eta 0:00:13\n",
            "   ------- -------------------------------- 1.4/8.1 MB 523.5 kB/s eta 0:00:13\n",
            "   ------- -------------------------------- 1.5/8.1 MB 525.9 kB/s eta 0:00:13\n",
            "   ------- -------------------------------- 1.5/8.1 MB 525.9 kB/s eta 0:00:13\n",
            "   ------- -------------------------------- 1.5/8.1 MB 525.9 kB/s eta 0:00:13\n",
            "   ------- -------------------------------- 1.5/8.1 MB 525.9 kB/s eta 0:00:13\n",
            "   ------- -------------------------------- 1.5/8.1 MB 518.7 kB/s eta 0:00:13\n",
            "   ------- -------------------------------- 1.5/8.1 MB 518.7 kB/s eta 0:00:13\n",
            "   ------- -------------------------------- 1.5/8.1 MB 518.7 kB/s eta 0:00:13\n",
            "   ------- -------------------------------- 1.6/8.1 MB 510.1 kB/s eta 0:00:13\n",
            "   ------- -------------------------------- 1.6/8.1 MB 510.1 kB/s eta 0:00:13\n",
            "   ------- -------------------------------- 1.6/8.1 MB 495.7 kB/s eta 0:00:14\n",
            "   ------- -------------------------------- 1.6/8.1 MB 495.7 kB/s eta 0:00:14\n",
            "   ------- -------------------------------- 1.6/8.1 MB 495.7 kB/s eta 0:00:14\n",
            "   ------- -------------------------------- 1.6/8.1 MB 487.6 kB/s eta 0:00:14\n",
            "   ------- -------------------------------- 1.6/8.1 MB 487.6 kB/s eta 0:00:14\n",
            "   ------- -------------------------------- 1.6/8.1 MB 487.6 kB/s eta 0:00:14\n",
            "   ------- -------------------------------- 1.6/8.1 MB 487.6 kB/s eta 0:00:14\n",
            "   ------- -------------------------------- 1.6/8.1 MB 487.6 kB/s eta 0:00:14\n",
            "   ------- -------------------------------- 1.6/8.1 MB 487.6 kB/s eta 0:00:14\n",
            "   ------- -------------------------------- 1.6/8.1 MB 458.5 kB/s eta 0:00:15\n",
            "   ------- -------------------------------- 1.6/8.1 MB 458.5 kB/s eta 0:00:15\n",
            "   ------- -------------------------------- 1.6/8.1 MB 458.5 kB/s eta 0:00:15\n",
            "   ------- -------------------------------- 1.6/8.1 MB 458.5 kB/s eta 0:00:15\n",
            "   ------- -------------------------------- 1.6/8.1 MB 458.5 kB/s eta 0:00:15\n",
            "   ------- -------------------------------- 1.6/8.1 MB 458.5 kB/s eta 0:00:15\n",
            "   ------- -------------------------------- 1.6/8.1 MB 458.5 kB/s eta 0:00:15\n",
            "   ------- -------------------------------- 1.6/8.1 MB 458.5 kB/s eta 0:00:15\n",
            "   ------- -------------------------------- 1.6/8.1 MB 458.5 kB/s eta 0:00:15\n",
            "   ------- -------------------------------- 1.6/8.1 MB 458.5 kB/s eta 0:00:15\n",
            "   ------- -------------------------------- 1.6/8.1 MB 458.5 kB/s eta 0:00:15\n",
            "   ------- -------------------------------- 1.6/8.1 MB 458.5 kB/s eta 0:00:15\n",
            "   ------- -------------------------------- 1.6/8.1 MB 458.5 kB/s eta 0:00:15\n",
            "   ------- -------------------------------- 1.6/8.1 MB 458.5 kB/s eta 0:00:15\n",
            "   -------- ------------------------------- 1.6/8.1 MB 392.7 kB/s eta 0:00:17\n",
            "   -------- ------------------------------- 1.6/8.1 MB 392.7 kB/s eta 0:00:17\n",
            "   -------- ------------------------------- 1.6/8.1 MB 392.7 kB/s eta 0:00:17\n",
            "   -------- ------------------------------- 1.6/8.1 MB 392.7 kB/s eta 0:00:17\n",
            "   -------- ------------------------------- 1.6/8.1 MB 392.7 kB/s eta 0:00:17\n",
            "   -------- ------------------------------- 1.6/8.1 MB 392.7 kB/s eta 0:00:17\n",
            "   -------- ------------------------------- 1.6/8.1 MB 392.7 kB/s eta 0:00:17\n",
            "   -------- ------------------------------- 1.6/8.1 MB 392.7 kB/s eta 0:00:17\n",
            "   -------- ------------------------------- 1.6/8.1 MB 392.7 kB/s eta 0:00:17\n",
            "   -------- ------------------------------- 1.6/8.1 MB 392.7 kB/s eta 0:00:17\n",
            "   -------- ------------------------------- 1.6/8.1 MB 392.7 kB/s eta 0:00:17\n",
            "   -------- ------------------------------- 1.6/8.1 MB 392.7 kB/s eta 0:00:17\n",
            "   -------- ------------------------------- 1.6/8.1 MB 392.7 kB/s eta 0:00:17\n",
            "   -------- ------------------------------- 1.6/8.1 MB 392.7 kB/s eta 0:00:17\n",
            "   -------- ------------------------------- 1.6/8.1 MB 392.7 kB/s eta 0:00:17\n",
            "   -------- ------------------------------- 1.6/8.1 MB 392.7 kB/s eta 0:00:17\n",
            "   -------- ------------------------------- 1.6/8.1 MB 392.7 kB/s eta 0:00:17\n",
            "   -------- ------------------------------- 1.6/8.1 MB 392.7 kB/s eta 0:00:17\n",
            "   -------- ------------------------------- 1.6/8.1 MB 392.7 kB/s eta 0:00:17\n",
            "   -------- ------------------------------- 1.6/8.1 MB 392.7 kB/s eta 0:00:17\n",
            "   -------- ------------------------------- 1.6/8.1 MB 392.7 kB/s eta 0:00:17\n",
            "   -------- ------------------------------- 1.6/8.1 MB 392.7 kB/s eta 0:00:17\n",
            "   -------- ------------------------------- 1.6/8.1 MB 322.6 kB/s eta 0:00:20\n",
            "   -------- ------------------------------- 1.6/8.1 MB 322.6 kB/s eta 0:00:20\n",
            "   -------- ------------------------------- 1.6/8.1 MB 322.6 kB/s eta 0:00:20\n",
            "   -------- ------------------------------- 1.6/8.1 MB 322.6 kB/s eta 0:00:20\n",
            "   -------- ------------------------------- 1.6/8.1 MB 313.0 kB/s eta 0:00:21\n",
            "   -------- ------------------------------- 1.6/8.1 MB 313.0 kB/s eta 0:00:21\n",
            "   -------- ------------------------------- 1.7/8.1 MB 311.4 kB/s eta 0:00:21\n",
            "   -------- ------------------------------- 1.7/8.1 MB 311.4 kB/s eta 0:00:21\n",
            "   -------- ------------------------------- 1.7/8.1 MB 310.6 kB/s eta 0:00:21\n",
            "   -------- ------------------------------- 1.7/8.1 MB 310.8 kB/s eta 0:00:21\n",
            "   -------- ------------------------------- 1.7/8.1 MB 312.8 kB/s eta 0:00:21\n",
            "   -------- ------------------------------- 1.8/8.1 MB 317.5 kB/s eta 0:00:20\n",
            "   -------- ------------------------------- 1.8/8.1 MB 317.6 kB/s eta 0:00:20\n",
            "   --------- ------------------------------ 1.8/8.1 MB 321.4 kB/s eta 0:00:20\n",
            "   --------- ------------------------------ 1.9/8.1 MB 325.9 kB/s eta 0:00:20\n",
            "   --------- ------------------------------ 1.9/8.1 MB 333.0 kB/s eta 0:00:19\n",
            "   --------- ------------------------------ 2.0/8.1 MB 339.3 kB/s eta 0:00:18\n",
            "   ---------- ----------------------------- 2.0/8.1 MB 345.3 kB/s eta 0:00:18\n",
            "   ---------- ----------------------------- 2.1/8.1 MB 353.0 kB/s eta 0:00:17\n",
            "   ---------- ----------------------------- 2.2/8.1 MB 364.1 kB/s eta 0:00:17\n",
            "   ----------- ---------------------------- 2.2/8.1 MB 371.6 kB/s eta 0:00:16\n",
            "   ----------- ---------------------------- 2.3/8.1 MB 385.7 kB/s eta 0:00:15\n",
            "   ----------- ---------------------------- 2.4/8.1 MB 391.2 kB/s eta 0:00:15\n",
            "   ------------ --------------------------- 2.4/8.1 MB 397.6 kB/s eta 0:00:15\n",
            "   ------------ --------------------------- 2.5/8.1 MB 404.6 kB/s eta 0:00:14\n",
            "   ------------ --------------------------- 2.5/8.1 MB 412.5 kB/s eta 0:00:14\n",
            "   ------------ --------------------------- 2.6/8.1 MB 414.4 kB/s eta 0:00:14\n",
            "   ------------- -------------------------- 2.6/8.1 MB 419.4 kB/s eta 0:00:13\n",
            "   ------------- -------------------------- 2.7/8.1 MB 424.4 kB/s eta 0:00:13\n",
            "   ------------- -------------------------- 2.7/8.1 MB 427.7 kB/s eta 0:00:13\n",
            "   ------------- -------------------------- 2.8/8.1 MB 436.9 kB/s eta 0:00:13\n",
            "   -------------- ------------------------- 2.8/8.1 MB 441.7 kB/s eta 0:00:12\n",
            "   -------------- ------------------------- 2.9/8.1 MB 448.0 kB/s eta 0:00:12\n",
            "   -------------- ------------------------- 2.9/8.1 MB 450.6 kB/s eta 0:00:12\n",
            "   -------------- ------------------------- 3.0/8.1 MB 452.0 kB/s eta 0:00:12\n",
            "   -------------- ------------------------- 3.0/8.1 MB 455.5 kB/s eta 0:00:12\n",
            "   --------------- ------------------------ 3.1/8.1 MB 456.9 kB/s eta 0:00:11\n",
            "   --------------- ------------------------ 3.1/8.1 MB 457.9 kB/s eta 0:00:11\n",
            "   --------------- ------------------------ 3.1/8.1 MB 459.8 kB/s eta 0:00:11\n",
            "   --------------- ------------------------ 3.1/8.1 MB 458.1 kB/s eta 0:00:11\n",
            "   --------------- ------------------------ 3.1/8.1 MB 458.5 kB/s eta 0:00:11\n",
            "   --------------- ------------------------ 3.2/8.1 MB 460.2 kB/s eta 0:00:11\n",
            "   --------------- ------------------------ 3.2/8.1 MB 460.7 kB/s eta 0:00:11\n",
            "   --------------- ------------------------ 3.2/8.1 MB 462.0 kB/s eta 0:00:11\n",
            "   ---------------- ----------------------- 3.3/8.1 MB 463.7 kB/s eta 0:00:11\n",
            "   ---------------- ----------------------- 3.3/8.1 MB 466.1 kB/s eta 0:00:11\n",
            "   ---------------- ----------------------- 3.3/8.1 MB 464.4 kB/s eta 0:00:11\n",
            "   ---------------- ----------------------- 3.3/8.1 MB 466.1 kB/s eta 0:00:11\n",
            "   ---------------- ----------------------- 3.4/8.1 MB 465.9 kB/s eta 0:00:11\n",
            "   ---------------- ----------------------- 3.4/8.1 MB 470.0 kB/s eta 0:00:10\n",
            "   ----------------- ---------------------- 3.4/8.1 MB 470.8 kB/s eta 0:00:10\n",
            "   ----------------- ---------------------- 3.5/8.1 MB 472.3 kB/s eta 0:00:10\n",
            "   ----------------- ---------------------- 3.5/8.1 MB 475.9 kB/s eta 0:00:10\n",
            "   ----------------- ---------------------- 3.6/8.1 MB 478.4 kB/s eta 0:00:10\n",
            "   ----------------- ---------------------- 3.6/8.1 MB 483.3 kB/s eta 0:00:10\n",
            "   ------------------ --------------------- 3.6/8.1 MB 485.3 kB/s eta 0:00:10\n",
            "   ------------------ --------------------- 3.7/8.1 MB 491.9 kB/s eta 0:00:09\n",
            "   ------------------ --------------------- 3.8/8.1 MB 495.6 kB/s eta 0:00:09\n",
            "   ------------------ --------------------- 3.8/8.1 MB 500.6 kB/s eta 0:00:09\n",
            "   ------------------- -------------------- 3.9/8.1 MB 508.3 kB/s eta 0:00:09\n",
            "   ------------------- -------------------- 4.0/8.1 MB 514.5 kB/s eta 0:00:08\n",
            "   -------------------- ------------------- 4.0/8.1 MB 520.6 kB/s eta 0:00:08\n",
            "   -------------------- ------------------- 4.1/8.1 MB 529.0 kB/s eta 0:00:08\n",
            "   -------------------- ------------------- 4.2/8.1 MB 537.6 kB/s eta 0:00:08\n",
            "   --------------------- ------------------ 4.3/8.1 MB 547.4 kB/s eta 0:00:07\n",
            "   --------------------- ------------------ 4.4/8.1 MB 554.5 kB/s eta 0:00:07\n",
            "   ---------------------- ----------------- 4.5/8.1 MB 565.2 kB/s eta 0:00:07\n",
            "   ---------------------- ----------------- 4.6/8.1 MB 572.2 kB/s eta 0:00:07\n",
            "   ----------------------- ---------------- 4.7/8.1 MB 584.0 kB/s eta 0:00:06\n",
            "   ----------------------- ---------------- 4.8/8.1 MB 588.1 kB/s eta 0:00:06\n",
            "   ------------------------ --------------- 4.9/8.1 MB 598.6 kB/s eta 0:00:06\n",
            "   ------------------------ --------------- 5.0/8.1 MB 607.7 kB/s eta 0:00:06\n",
            "   ------------------------- -------------- 5.1/8.1 MB 617.9 kB/s eta 0:00:05\n",
            "   ------------------------- -------------- 5.2/8.1 MB 625.5 kB/s eta 0:00:05\n",
            "   -------------------------- ------------- 5.3/8.1 MB 636.8 kB/s eta 0:00:05\n",
            "   -------------------------- ------------- 5.4/8.1 MB 643.1 kB/s eta 0:00:05\n",
            "   --------------------------- ------------ 5.5/8.1 MB 650.5 kB/s eta 0:00:05\n",
            "   --------------------------- ------------ 5.6/8.1 MB 659.0 kB/s eta 0:00:04\n",
            "   --------------------------- ------------ 5.6/8.1 MB 666.3 kB/s eta 0:00:04\n",
            "   ---------------------------- ----------- 5.7/8.1 MB 673.5 kB/s eta 0:00:04\n",
            "   ---------------------------- ----------- 5.8/8.1 MB 680.6 kB/s eta 0:00:04\n",
            "   ----------------------------- ---------- 5.9/8.1 MB 688.8 kB/s eta 0:00:04\n",
            "   ----------------------------- ---------- 6.0/8.1 MB 698.2 kB/s eta 0:00:03\n",
            "   ------------------------------ --------- 6.1/8.1 MB 707.4 kB/s eta 0:00:03\n",
            "   ------------------------------ --------- 6.2/8.1 MB 714.2 kB/s eta 0:00:03\n",
            "   ------------------------------- -------- 6.3/8.1 MB 719.9 kB/s eta 0:00:03\n",
            "   ------------------------------- -------- 6.4/8.1 MB 723.0 kB/s eta 0:00:03\n",
            "   -------------------------------- ------- 6.5/8.1 MB 730.8 kB/s eta 0:00:03\n",
            "   -------------------------------- ------- 6.5/8.1 MB 735.0 kB/s eta 0:00:03\n",
            "   -------------------------------- ------- 6.6/8.1 MB 739.1 kB/s eta 0:00:02\n",
            "   --------------------------------- ------ 6.7/8.1 MB 745.5 kB/s eta 0:00:02\n",
            "   --------------------------------- ------ 6.8/8.1 MB 754.2 kB/s eta 0:00:02\n",
            "   ---------------------------------- ----- 6.9/8.1 MB 758.2 kB/s eta 0:00:02\n",
            "   ---------------------------------- ----- 7.0/8.1 MB 764.6 kB/s eta 0:00:02\n",
            "   ----------------------------------- ---- 7.1/8.1 MB 770.6 kB/s eta 0:00:02\n",
            "   ----------------------------------- ---- 7.2/8.1 MB 779.1 kB/s eta 0:00:02\n",
            "   ------------------------------------ --- 7.3/8.1 MB 786.2 kB/s eta 0:00:02\n",
            "   ------------------------------------ --- 7.4/8.1 MB 793.6 kB/s eta 0:00:01\n",
            "   ------------------------------------- -- 7.5/8.1 MB 802.5 kB/s eta 0:00:01\n",
            "   ------------------------------------- -- 7.6/8.1 MB 812.6 kB/s eta 0:00:01\n",
            "   -------------------------------------- - 7.7/8.1 MB 817.6 kB/s eta 0:00:01\n",
            "   -------------------------------------- - 7.8/8.1 MB 825.8 kB/s eta 0:00:01\n",
            "   ---------------------------------------  7.9/8.1 MB 833.5 kB/s eta 0:00:01\n",
            "   ---------------------------------------  8.0/8.1 MB 841.2 kB/s eta 0:00:01\n",
            "   ---------------------------------------  8.1/8.1 MB 844.5 kB/s eta 0:00:01\n",
            "   ---------------------------------------- 8.1/8.1 MB 840.8 kB/s eta 0:00:00\n",
            "Downloading contourpy-1.3.1-cp312-cp312-win_amd64.whl (220 kB)\n",
            "   ---------------------------------------- 0.0/221.0 kB ? eta -:--:--\n",
            "   -------------------- ------------------- 112.6/221.0 kB 3.3 MB/s eta 0:00:01\n",
            "   -------------------------------------- - 215.0/221.0 kB 2.6 MB/s eta 0:00:01\n",
            "   ---------------------------------------- 221.0/221.0 kB 2.2 MB/s eta 0:00:00\n",
            "Downloading cycler-0.12.1-py3-none-any.whl (8.3 kB)\n",
            "Downloading fonttools-4.56.0-cp312-cp312-win_amd64.whl (2.2 MB)\n",
            "   ---------------------------------------- 0.0/2.2 MB ? eta -:--:--\n",
            "   -- ------------------------------------- 0.1/2.2 MB 3.2 MB/s eta 0:00:01\n",
            "   ---- ----------------------------------- 0.2/2.2 MB 2.9 MB/s eta 0:00:01\n",
            "   ------ --------------------------------- 0.4/2.2 MB 3.2 MB/s eta 0:00:01\n",
            "   -------- ------------------------------- 0.5/2.2 MB 3.2 MB/s eta 0:00:01\n",
            "   ----------- ---------------------------- 0.6/2.2 MB 3.2 MB/s eta 0:00:01\n",
            "   ------------- -------------------------- 0.8/2.2 MB 3.2 MB/s eta 0:00:01\n",
            "   ---------------- ----------------------- 0.9/2.2 MB 3.1 MB/s eta 0:00:01\n",
            "   ------------------ --------------------- 1.0/2.2 MB 3.1 MB/s eta 0:00:01\n",
            "   -------------------- ------------------- 1.1/2.2 MB 3.0 MB/s eta 0:00:01\n",
            "   ---------------------- ----------------- 1.2/2.2 MB 2.9 MB/s eta 0:00:01\n",
            "   ------------------------ --------------- 1.3/2.2 MB 2.9 MB/s eta 0:00:01\n",
            "   -------------------------- ------------- 1.4/2.2 MB 2.9 MB/s eta 0:00:01\n",
            "   ---------------------------- ----------- 1.5/2.2 MB 2.9 MB/s eta 0:00:01\n",
            "   ----------------------------- ---------- 1.6/2.2 MB 2.9 MB/s eta 0:00:01\n",
            "   ------------------------------- -------- 1.7/2.2 MB 2.8 MB/s eta 0:00:01\n",
            "   --------------------------------- ------ 1.8/2.2 MB 2.8 MB/s eta 0:00:01\n",
            "   ----------------------------------- ---- 1.9/2.2 MB 2.8 MB/s eta 0:00:01\n",
            "   ------------------------------------- -- 2.0/2.2 MB 2.8 MB/s eta 0:00:01\n",
            "   ---------------------------------------  2.2/2.2 MB 2.8 MB/s eta 0:00:01\n",
            "   ---------------------------------------- 2.2/2.2 MB 2.7 MB/s eta 0:00:00\n",
            "Downloading kiwisolver-1.4.8-cp312-cp312-win_amd64.whl (71 kB)\n",
            "   ---------------------------------------- 0.0/71.9 kB ? eta -:--:--\n",
            "   ---------------------------------------- 71.9/71.9 kB 2.0 MB/s eta 0:00:00\n",
            "Downloading pillow-11.1.0-cp312-cp312-win_amd64.whl (2.6 MB)\n",
            "   ---------------------------------------- 0.0/2.6 MB ? eta -:--:--\n",
            "   -- ------------------------------------- 0.2/2.6 MB 4.6 MB/s eta 0:00:01\n",
            "   ---- ----------------------------------- 0.3/2.6 MB 3.4 MB/s eta 0:00:01\n",
            "   ------ --------------------------------- 0.4/2.6 MB 3.7 MB/s eta 0:00:01\n",
            "   -------- ------------------------------- 0.6/2.6 MB 3.2 MB/s eta 0:00:01\n",
            "   ---------- ----------------------------- 0.7/2.6 MB 3.4 MB/s eta 0:00:01\n",
            "   ------------ --------------------------- 0.8/2.6 MB 3.5 MB/s eta 0:00:01\n",
            "   --------------- ------------------------ 1.0/2.6 MB 3.6 MB/s eta 0:00:01\n",
            "   ----------------- ---------------------- 1.2/2.6 MB 3.5 MB/s eta 0:00:01\n",
            "   ------------------- -------------------- 1.3/2.6 MB 3.4 MB/s eta 0:00:01\n",
            "   ---------------------- ----------------- 1.5/2.6 MB 3.6 MB/s eta 0:00:01\n",
            "   ------------------------ --------------- 1.6/2.6 MB 3.6 MB/s eta 0:00:01\n",
            "   --------------------------- ------------ 1.8/2.6 MB 3.6 MB/s eta 0:00:01\n",
            "   ----------------------------- ---------- 1.9/2.6 MB 3.6 MB/s eta 0:00:01\n",
            "   -------------------------------- ------- 2.1/2.6 MB 3.7 MB/s eta 0:00:01\n",
            "   ----------------------------------- ---- 2.3/2.6 MB 3.7 MB/s eta 0:00:01\n",
            "   -------------------------------------- - 2.5/2.6 MB 3.7 MB/s eta 0:00:01\n",
            "   ---------------------------------------  2.6/2.6 MB 3.7 MB/s eta 0:00:01\n",
            "   ---------------------------------------- 2.6/2.6 MB 3.6 MB/s eta 0:00:00\n",
            "Downloading pyparsing-3.2.1-py3-none-any.whl (107 kB)\n",
            "   ---------------------------------------- 0.0/107.7 kB ? eta -:--:--\n",
            "   ---------------------------------------- 107.7/107.7 kB 3.1 MB/s eta 0:00:00\n",
            "Installing collected packages: pyparsing, pillow, kiwisolver, fonttools, cycler, contourpy, matplotlib\n",
            "Successfully installed contourpy-1.3.1 cycler-0.12.1 fonttools-4.56.0 kiwisolver-1.4.8 matplotlib-3.10.1 pillow-11.1.0 pyparsing-3.2.1\n"
          ]
        },
        {
          "name": "stderr",
          "output_type": "stream",
          "text": [
            "\n",
            "[notice] A new release of pip is available: 24.0 -> 25.0.1\n",
            "[notice] To update, run: python.exe -m pip install --upgrade pip\n"
          ]
        }
      ],
      "source": [
        "!pip install matplotlib\n",
        "!pip install numpy\n",
        "!pip install pandas"
      ]
    },
    {
      "cell_type": "code",
      "execution_count": 1,
      "metadata": {
        "id": "UQp7FGSb5Vlv"
      },
      "outputs": [],
      "source": [
        "import pandas as pd\n",
        "import matplotlib.pyplot as plt"
      ]
    },
    {
      "cell_type": "markdown",
      "metadata": {
        "id": "eFRcS74MDeSf"
      },
      "source": [
        "**QUESTION:** Load dataset and display some lines of the csv file."
      ]
    },
    {
      "cell_type": "code",
      "execution_count": 2,
      "metadata": {
        "id": "9l044FZ_5-fN"
      },
      "outputs": [
        {
          "name": "stdout",
          "output_type": "stream",
          "text": [
            "   UDI Product ID Type  Air temperature [K]  Process temperature [K]  \\\n",
            "0    1     M14860    M                298.1                    308.6   \n",
            "1    2     L47181    L                298.2                    308.7   \n",
            "2    3     L47182    L                298.1                    308.5   \n",
            "3    4     L47183    L                298.2                    308.6   \n",
            "4    5     L47184    L                298.2                    308.7   \n",
            "\n",
            "   Rotational speed [rpm]  Torque [Nm]  Tool wear [min]  Machine failure  TWF  \\\n",
            "0                    1551         42.8                0                0    0   \n",
            "1                    1408         46.3                3                0    0   \n",
            "2                    1498         49.4                5                0    0   \n",
            "3                    1433         39.5                7                0    0   \n",
            "4                    1408         40.0                9                0    0   \n",
            "\n",
            "   HDF  PWF  OSF  RNF  \n",
            "0    0    0    0    0  \n",
            "1    0    0    0    0  \n",
            "2    0    0    0    0  \n",
            "3    0    0    0    0  \n",
            "4    0    0    0    0  \n"
          ]
        }
      ],
      "source": [
        "df = pd.read_csv(\"ai4i2020.csv\")\n",
        "print(df.head())"
      ]
    },
    {
      "cell_type": "markdown",
      "metadata": {
        "id": "joQOXoqaD8JA"
      },
      "source": [
        "**QUESTION:** Display the distribution of machine failures and non-failures with a bar graph."
      ]
    },
    {
      "cell_type": "code",
      "execution_count": 3,
      "metadata": {
        "id": "r3Q1l9JoMs7m"
      },
      "outputs": [
        {
          "data": {
            "image/png": "[encoded data removed]",
            "text/plain": [
              "<Figure size 640x480 with 1 Axes>"
            ]
          },
          "metadata": {},
          "output_type": "display_data"
        }
      ],
      "source": [
        "failure_counts = df['Machine failure'].value_counts()\n",
        "failure_counts.plot(kind='bar', color=['#A2C4C9', '#F4A6A6'])\n",
        "plt.xticks(ticks=[0, 1], labels=['No Failure', 'Failure'], rotation=0)\n",
        "plt.ylabel('Count')\n",
        "plt.title('Distribution of Machine Failures and Non-Failures')\n",
        "plt.show()"
      ]
    },
    {
      "cell_type": "markdown",
      "metadata": {
        "id": "vCNIqXVyEkrR"
      },
      "source": [
        "**ANALYSIS QUESTION:** What do you observe?"
      ]
    },
    {
      "cell_type": "markdown",
      "metadata": {
        "id": "6BMGtlIWE-C0"
      },
      "source": [
        "\"Write here your response\""
      ]
    },
    {
      "cell_type": "markdown",
      "metadata": {
        "id": "huU5I4x8SzlN"
      },
      "source": [
        "**ANALYSIS QUESTION:** What will be the consequence of this phenomenon on the model's learning?"
      ]
    },
    {
      "cell_type": "markdown",
      "metadata": {
        "id": "JHmYROP0TLIS"
      },
      "source": [
        "\"Write here your response\""
      ]
    },
    {
      "cell_type": "markdown",
      "metadata": {
        "id": "0s-mzCCsSasl"
      },
      "source": [
        "**QUESTION:** Create a bar chart showing the distribution of different failure types (TWF, HDF, PWF, OSF, RNF). Display the exact values above each bar in the chart.\""
      ]
    },
    {
      "cell_type": "code",
      "execution_count": 5,
      "metadata": {
        "id": "nQyJCfamMdJN"
      },
      "outputs": [
        {
          "data": {
            "image/png": "[encoded data removed]",
            "text/plain": [
              "<Figure size 640x480 with 1 Axes>"
            ]
          },
          "metadata": {},
          "output_type": "display_data"
        }
      ],
      "source": [
        "failure_types = ['TWF', 'HDF', 'PWF', 'OSF', 'RNF']\n",
        "failure_counts = df[failure_types].sum()\n",
        "\n",
        "colors = ['#FFD966', '#A2C4C9', '#F4A6A6', '#B4A7D6', '#76A5AF']\n",
        "plt.bar(failure_counts.index, failure_counts.values, color=colors)\n",
        "plt.xlabel('Failure Type')\n",
        "plt.ylabel('Count')\n",
        "plt.title('Distribution of Different Failure Types')\n",
        "for i, v in enumerate(failure_counts.values):\n",
        "    plt.text(i, v + 5, str(v), ha='center', fontsize=10)\n",
        "\n",
        "plt.show()"
      ]
    },
    {
      "cell_type": "markdown",
      "metadata": {
        "id": "NXyHa73yU8g_"
      },
      "source": [
        "**ANALYSIS QUESTION:** What do you observe?"
      ]
    },
    {
      "cell_type": "markdown",
      "metadata": {
        "id": "WRDFE_dsVBBU"
      },
      "source": [
        "\"Write here your response\""
      ]
    },
    {
      "cell_type": "markdown",
      "metadata": {
        "id": "cvaO2bEIMxLd"
      },
      "source": [
        "**QUESTION:** Create a bar chart showing the distribution of failure types (TWF, HDF, PWF, OSF, RNF) among machines that experienced a failure (Machine failure == 1). Additionally, add a \"No Specific Failure\" category to count cases where a machine failed but no specific failure type was recorded. Display the exact values above each bar in the chart.\""
      ]
    },
    {
      "cell_type": "code",
      "execution_count": null,
      "metadata": {
        "id": "e97htGyyMsle"
      },
      "outputs": [],
      "source": []
    },
    {
      "cell_type": "markdown",
      "metadata": {
        "id": "U6_3vAQCOUGb"
      },
      "source": [
        "**ANALYSIS QUESTION:** What do you obsrve comapred to the previous question ? What can you conclude?"
      ]
    },
    {
      "cell_type": "markdown",
      "metadata": {
        "id": "i-6t7nqlOjMo"
      },
      "source": [
        "\"Write your response here\""
      ]
    },
    {
      "cell_type": "markdown",
      "metadata": {
        "id": "muXeS0eVVW6H"
      },
      "source": [
        "**QUESTION:** Display the names of the different columns in the dataset with their respective data types."
      ]
    },
    {
      "cell_type": "code",
      "execution_count": null,
      "metadata": {
        "id": "pa9Tptu7nPMp"
      },
      "outputs": [],
      "source": []
    },
    {
      "cell_type": "markdown",
      "metadata": {
        "id": "cezua1bMVTCM"
      },
      "source": [
        "**ANALYSIS QUESTION:** To train the model, what will be the inputs and outputs (What are the names of the columns that you will use?)? Justify your response.\n",
        "Remember, you want to predict if the machine will fail, and if so, what kind of failure. You need to yse previous results to jsurtify your response."
      ]
    },
    {
      "cell_type": "markdown",
      "metadata": {
        "id": "0gy8oDgxbjol"
      },
      "source": [
        "\"Write your response here\""
      ]
    },
    {
      "cell_type": "markdown",
      "metadata": {
        "id": "CFXLkBzTiafx"
      },
      "source": [
        "## **2- Train model Without balancing the dataset**\n",
        "\n",
        "---\n",
        "\n"
      ]
    },
    {
      "cell_type": "markdown",
      "metadata": {
        "id": "plBeUOCKvVNU"
      },
      "source": [
        "In this section, you must build and train a model without rebalancing the dataset."
      ]
    },
    {
      "cell_type": "markdown",
      "metadata": {
        "id": "yj7CMqdVbxg2"
      },
      "source": [
        "**QUESTION:** Create X_train, Y_train, X_test, and Y_test. How many elements are present in X_train, Y_train, X_test, and Y_test? (Print the values)"
      ]
    },
    {
      "cell_type": "code",
      "execution_count": null,
      "metadata": {
        "id": "Wdght-L8wQQQ"
      },
      "outputs": [],
      "source": []
    },
    {
      "cell_type": "markdown",
      "metadata": {
        "id": "eqBuZsqKdQ7u"
      },
      "source": [
        "**QUESTION** Code below the model architecture"
      ]
    },
    {
      "cell_type": "code",
      "execution_count": null,
      "metadata": {
        "id": "F35j0VRDdNLc"
      },
      "outputs": [],
      "source": []
    },
    {
      "cell_type": "markdown",
      "metadata": {
        "id": "dIONoP2Jdg8Q"
      },
      "source": [
        "**QUESTION** Code below the algorithms allowing to train model\n",
        "\n",
        "**WARNING!** You need to plot the training and test accuracy and loss to check if our model is overfitting"
      ]
    },
    {
      "cell_type": "code",
      "execution_count": null,
      "metadata": {
        "id": "jJ2bYxZydhW2"
      },
      "outputs": [],
      "source": []
    },
    {
      "cell_type": "markdown",
      "metadata": {
        "id": "yvmyHnqYpbf-"
      },
      "source": [
        "**QUESTION** Plot the confusion matrix and the classification report"
      ]
    },
    {
      "cell_type": "markdown",
      "metadata": {
        "id": "FUXSeJ1ZpsSP"
      },
      "source": [
        "**Tips:**\n",
        "\n",
        "*   classification report link\n",
        "\n",
        "> https://scikit-learn.org/stable/modules/generated/sklearn.metrics.classification_report.html\n",
        "\n",
        "*   Matrix confusion\n",
        "\n",
        "> https://scikit-learn.org/stable/modules/generated/sklearn.metrics.ConfusionMatrixDisplay.html\n",
        "\n",
        "\n",
        "\n"
      ]
    },
    {
      "cell_type": "code",
      "execution_count": null,
      "metadata": {
        "id": "m4q5wvHNnAdu"
      },
      "outputs": [],
      "source": []
    },
    {
      "cell_type": "markdown",
      "metadata": {
        "id": "ImGsmryGkKhj"
      },
      "source": [
        "**ANALYSIS QUESTION** What do you observe? What can you conclude?"
      ]
    },
    {
      "cell_type": "markdown",
      "metadata": {
        "id": "y1f5OneQknZy"
      },
      "source": [
        "\"Write your response here\""
      ]
    },
    {
      "cell_type": "markdown",
      "metadata": {
        "id": "EYUyUAN5ji0x"
      },
      "source": [
        "## **3- Train model With balancing the dataset**\n",
        "\n",
        "---"
      ]
    },
    {
      "cell_type": "markdown",
      "metadata": {
        "id": "EQWut50JhKdD"
      },
      "source": [
        " Methods for rebalancing a dataset:\n",
        "\n",
        "\n",
        "*   Use oversampling techniques (e.g., SMOTE) to generate synthetic data for minority classes\n",
        "\n",
        "\n",
        "> https://imbalanced-learn.org/stable/references/generated/imblearn.over_sampling.SMOTE.html\n",
        "\n",
        "\n",
        "\n",
        "*   Apply undersampling techniques (e.g., random undersampling, Tomek Links, Edited Nearest Neighbors) to reduce the majority class size\n",
        "\n",
        "\n",
        "\n",
        "> https://imbalanced-learn.org/stable/references/generated/imblearn.under_sampling.RandomUnderSampler.html\n",
        "\n",
        "\n",
        "\n",
        "*   Use class weighting during model training to penalize errors on minority classes\n",
        "\n",
        "\n",
        "\n",
        "> https://www.tensorflow.org/tutorials/structured_data/imbalanced_data?hl=fr\n"
      ]
    },
    {
      "cell_type": "markdown",
      "metadata": {
        "id": "--pWJzaUnXdY"
      },
      "source": [
        "**QUESTION:** Create X_train, Y_train, X_test, and Y_test. How many elements are present in X_train, Y_train, X_test, and Y_test? (Print the values)"
      ]
    },
    {
      "cell_type": "code",
      "execution_count": null,
      "metadata": {
        "id": "aLW74cwbdr1U"
      },
      "outputs": [],
      "source": []
    },
    {
      "cell_type": "markdown",
      "metadata": {
        "id": "-YcZXIadnbcm"
      },
      "source": [
        "**ANALYSIS QUESTION:** Explain the choices you made to balance the dataset."
      ]
    },
    {
      "cell_type": "markdown",
      "metadata": {
        "id": "Rku3pnWxnxhI"
      },
      "source": [
        "\"Write your response here\""
      ]
    },
    {
      "cell_type": "markdown",
      "metadata": {
        "id": "BVryPCQFn4Dd"
      },
      "source": [
        "**QUESTION:** Code below the model architecture\n"
      ]
    },
    {
      "cell_type": "markdown",
      "metadata": {
        "id": "Q5BGfI7TpVDD"
      },
      "source": [
        "**TIP:** It could be interesting to keep it the same as before"
      ]
    },
    {
      "cell_type": "code",
      "execution_count": null,
      "metadata": {
        "id": "S0UbMHN6OC51"
      },
      "outputs": [],
      "source": []
    },
    {
      "cell_type": "markdown",
      "metadata": {
        "id": "wBZyS7DdofFq"
      },
      "source": [
        "**QUESTION** Code below the algorithms allowing to train model\n"
      ]
    },
    {
      "cell_type": "code",
      "execution_count": null,
      "metadata": {
        "id": "my6Ck5JbMDOG"
      },
      "outputs": [],
      "source": []
    },
    {
      "cell_type": "markdown",
      "metadata": {
        "id": "77ftkfv5oqp0"
      },
      "source": [
        "**QUESTION** Plot the confusion matrix and the classification report"
      ]
    },
    {
      "cell_type": "code",
      "execution_count": null,
      "metadata": {
        "id": "kRmkOI_co5d9"
      },
      "outputs": [],
      "source": []
    },
    {
      "cell_type": "markdown",
      "metadata": {
        "id": "Zn5BBAI3pHXf"
      },
      "source": [
        "**ANALYSIS QUESTION** What do you observe? What can you conclude?"
      ]
    },
    {
      "cell_type": "markdown",
      "metadata": {
        "id": "SIf8rfU9pIGd"
      },
      "source": [
        "\"Write your response here\""
      ]
    }
  ],
  "metadata": {
    "colab": {
      "provenance": []
    },
    "kernelspec": {
      "display_name": "Python 3",
      "name": "python3"
    },
    "language_info": {
      "codemirror_mode": {
        "name": "ipython",
        "version": 3
      },
      "file_extension": ".py",
      "mimetype": "text/x-python",
      "name": "python",
      "nbconvert_exporter": "python",
      "pygments_lexer": "ipython3",
      "version": "3.12.4"
    }
  },
  "nbformat": 4,
  "nbformat_minor": 0
}
